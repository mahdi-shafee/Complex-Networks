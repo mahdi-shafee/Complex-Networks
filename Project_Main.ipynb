{
 "cells": [
  {
   "cell_type": "markdown",
   "metadata": {
    "id": "vZ2k3c-9m029"
   },
   "source": [
    "<div style=\"direction:rtl;line-height:300%;\">\n",
    "\t<font face=\"XB Zar\" size=5>\n",
    "\t\t<div align=center>\n",
    "\t\t\t<font face=\"IranNastaliq\" size=30>\n",
    "\t\t\t\t<p></p>\n",
    "\t\t\t\t<p></p>\n",
    "به نام خدا\n",
    "\t\t\t\t<p></p>\n",
    "\t\t\t</font>\n",
    "\t\t\t<font color=#FF7500>\n",
    "دانشگاه صنعتی شریف - دانشکده مهندسی کامپیوتر\n",
    "            </font>\n",
    "\t\t\t<p></p>\n",
    "\t\t\t<font color=blue>\n",
    "جبر خطی - دکتر سمیرا حسین قربان\n",
    "            </font>\n",
    "\t\t\t<br />\n",
    "\t\t\t<br />\n",
    "نیم سال اول ۱۴۰۱-۱۴۰۰\n",
    "\t\t</div>\n",
    "\t\t<hr/>\n",
    "\t\t<div align=center dir='rtl'>\n",
    "\t\t    <font color=red>\n",
    "\t\t\t    <br />\n",
    "پروژه همگامی در شبکه‌های پیچیده\n",
    "            \t<br/>\n",
    "\t\t\t</font>\n",
    "طراحان:\n",
    "            \n",
    "[امیرمحمد محمدی](a.m.mohammadi266@gmail.com)\n",
    "            ، سجاد فغفور مغربی، حمید دهباشی، امیر حسین باقری، محمد جعفری، نازنین آذریان.<br/><br/>\n",
    "موعد تحویل: ۱۲ بهمن\n",
    "                <br/>\n",
    "                از هم‌فکری و مشورت استقبال می‌کنیم   ولی ضروری است که  پیاده‌سازی‌ها حتماً   به تنهایی و بدون مشاهده کد دیگران صورت پذیرد.\n",
    "                <br/><br/>\n",
    "                <font color=red>\n",
    "                لطفا در صورت همفکری با سایر دانشجویان، نام و شماره دانشجویی آنها را وارد کنید.\n",
    "     </font>\n",
    "                <br/>\n",
    "        </style>\n",
    "\t</font>\n",
    "</div>"
   ]
  },
  {
   "cell_type": "markdown",
   "metadata": {
    "id": "LWUCJKzKKZrp"
   },
   "source": [
    "#### \"In a world seemingly filled with chaos, physicists have discovered new forms of synchronization and are learning how to predict and control them.\"\n",
    "## Road Map\n",
    "In this project, the following steps are performed:\n",
    "\n",
    "\n",
    "1.   Introducing the concepts of complex networks and synchronization.\n",
    "2.   Familiarity with Runge-Kutta tool and graph data structure.\n",
    "3.   Measuring the degree of synchronization of graph  using kuramoto order parameter.\n",
    "4.   Rewiring algorithm implementation to improve synchronization.\n",
    "\n",
    "\n",
    "## Complex Network (100 points)\n",
    "Complex networks describe a wide range of natural and/or artificial systems, e.g. harmonic clapping of the crowd, simultaneous flashing of fireflies, the Internet, the WWW, networks of food webs, social acquaintances, paper citations, as well as many others. \n",
    "\n",
    "[More information about CN](https://www.researchgate.net/publication/324312765_What_is_a_Complex_Network_CDT-2 )\n",
    "<br>\n",
    "[Interesting video about complex networks and its samples](https://www.youtube.com/watch?v=t-_VPRCtiUg)\n",
    "<br>\n",
    "\n",
    "\n",
    "## Synchronization \n",
    "Synchronization is a fundamental physical phenomenon which can be observed in many different systems, ranging from biology to physics and even social phenomenon. \"It was first described by Huygens in the 18th century, when he observed that pendulum clocks hanging on a wooden beam started to swing in unison.\"[\\[link\\]](http://www.incite-itn.eu/wp-content/uploads/VL/Kuramoto/index.html)\n",
    "\n",
    "Every synchronization appears in a system with these properties:\n",
    "\n",
    "* \"Individual parts, which have their own, individual behavior\". \n",
    "\n",
    "* \"A coupling mechanism, which connects the parts and aligns their motion\". \n",
    "\n",
    "Synchronization appears in a complex system if the coupling mechanism is stronger than the individual evolvement of different parts of the system.\n",
    "\n",
    "We could say that synchronization happens if the two following conditions are confirmed:\n",
    "\n",
    "* \"All oscillators rotate with a common frequency. This means that their state are not changing proportional to any other oscillator state.\"[\\[link\\]](http://www.incite-itn.eu/wp-content/uploads/VL/Kuramoto/index.html)\n",
    "\n",
    "* \"The angular differences between the oscillators are bounded.\"[\\[link\\]](http://www.incite-itn.eu/wp-content/uploads/VL/Kuramoto/index.html)\n",
    "\n",
    "\n",
    "[Improve your intuition of Synchronization](http://www.ams.org/publicoutreach/feature-column/gll-test)"
   ]
  },
  {
   "cell_type": "code",
   "execution_count": 3,
   "metadata": {
    "id": "DDJwWejuKZrv"
   },
   "outputs": [],
   "source": [
    "import copy\n",
    "import math\n",
    "import json\n",
    "import numpy as np\n",
    "import networkx as nx\n",
    "import scipy as sp\n",
    "from scipy.integrate import RK45\n",
    "from matplotlib import pyplot as plt"
   ]
  },
  {
   "cell_type": "markdown",
   "metadata": {
    "id": "jxiVC-56LVVI"
   },
   "source": [
    "## Runge-Kutta brief explanation \n",
    "If you want to find an approximate solution to the following ODE:\n",
    "\n",
    "$$\n",
    "\\frac{dx}{dt} = f(x)\n",
    "$$\n",
    "<br>\n",
    "You can use RK. A method of numerically integrating ordinary differential equations by using a trial step at the midpoint of an interval to cancel out lower-order error terms. We are discussing RK45 for more accuracy it provide in this project, but you can see how RK4 works as a simpler method relative to RK45.\n",
    "\n",
    "$$\n",
    "\\begin{aligned} k_1 &= h f(x(t), t)\\\\ k_2 &= h f(x(t) + \\frac{k_1}{2}, t + \\frac{h}{2})\\\\ k_3 &= hf(x(t) + \\frac{k_2}{2}, t + \\frac{h}{2})\\\\ k_4 &= hf(x(t) + k_3, t + h)\\end{aligned}\n",
    "$$\n",
    "\n",
    "$$\n",
    "x(t + h) = x(t) + \\frac{1}{6}(k_1 + 2k_2 + 2k_3 + k_4)\n",
    "$$\n",
    "\n",
    "[Very useful video about RK and its implementation](https://www.youtube.com/watch?v=1FYrnwqWQNY)\n",
    "\n",
    "[Runge-Kutta method](https://en.wikipedia.org/wiki/Runge%E2%80%93Kutta_methods)\n"
   ]
  },
  {
   "cell_type": "markdown",
   "metadata": {
    "id": "9zTtZ35UKZry",
    "pycharm": {
     "name": "#%% md\n"
    }
   },
   "source": [
    "# Runge-Kutta training (10 points)\n",
    "\n",
    "assume:\n",
    "\n",
    "$$\n",
    "\\begin{aligned} \\frac{dy}{dt} = \\sqrt{y} \\\\ y(2) = 1\\end{aligned}\n",
    "$$\n",
    "\n",
    "plot y graph by 0.1 distance in interval (0, 10)\n",
    "\n",
    "using \n",
    "[scipy.integrate.RK45](https://docs.scipy.org/doc/scipy/reference/generated/scipy.integrate.RK45.html)\n",
    "and \n",
    "[matplotlib.pyplot](https://matplotlib.org/stable/api/_as_gen/matplotlib.pyplot.html)"
   ]
  },
  {
   "cell_type": "code",
   "execution_count": 132,
   "metadata": {
    "colab": {
     "base_uri": "https://localhost:8080/",
     "height": 265
    },
    "id": "1JsPfDrqKZry",
    "outputId": "2d5e9849-d4dc-4c5f-b1e7-1a2e2aa65212",
    "pycharm": {
     "name": "#%%\n"
    }
   },
   "outputs": [
    {
     "data": {
      "image/png": "[encoded data removed]",
      "text/plain": [
       "<Figure size 432x288 with 1 Axes>"
      ]
     },
     "metadata": {
      "needs_background": "light"
     },
     "output_type": "display_data"
    }
   ],
   "source": [
    "# collect data\n",
    "t_values = []\n",
    "y_values = []\n",
    "\n",
    "### Begin your code\n",
    "\n",
    "def f(t, x):\n",
    "    return math.sqrt(x)\n",
    "\n",
    "solution = RK45(f, 2, [1], 0.1, 0.1)\n",
    "\n",
    "for i in range(100):\n",
    "    solution.step()\n",
    "    t_values.append(solution.t)\n",
    "    y_values.append(solution.y[0])\n",
    "    if solution.status == 'finished':\n",
    "        break\n",
    "\n",
    "t_values.reverse()\n",
    "y_values.reverse()\n",
    "solution = RK45(f, 2 , [1] , 10 ,0.1)\n",
    "\n",
    "for i in range(100):\n",
    "    solution.step()\n",
    "    t_values.append(solution.t)\n",
    "    y_values.append(solution.y[0])\n",
    "    if solution.status == 'finished':\n",
    "        break\n",
    "\n",
    "\n",
    "\n",
    "### End your code\n",
    "\n",
    "# plot graph\n",
    "plt.plot(t_values, y_values)\n",
    "plt.show()"
   ]
  },
  {
   "cell_type": "markdown",
   "metadata": {
    "id": "cDfPWayjKZr0"
   },
   "source": [
    "# Graph (5 points)\n",
    "The cell below is the graph class that you use for the rest of the project.\n",
    "\n",
    "Fill get_mean_frequency and centroid_frequencies methods of class and don't change other methods."
   ]
  },
  {
   "cell_type": "code",
   "execution_count": 133,
   "metadata": {
    "id": "zqa76FP1KZr0"
   },
   "outputs": [],
   "source": [
    "# import graph and graph training\n",
    "class Graph:\n",
    "    # list of frequencies\n",
    "    nodes_frequency = []\n",
    "    # list of edges (as list like [1,2])\n",
    "    adjacency_matrix = []\n",
    "    naturalFreq = []\n",
    "    vertices = []\n",
    "\n",
    "    def __init__(self, nodes_frequency, adjacency_matrix, natural_frequency):\n",
    "        self.nodes_frequency = nodes_frequency\n",
    "        self.adjacency_matrix = adjacency_matrix\n",
    "        self.naturalFreq = natural_frequency\n",
    "        self.vertices = list(range(len(adjacency_matrix)))\n",
    "\n",
    "    def number_of_nodes(self):\n",
    "        return len(self.nodes_frequency)\n",
    "\n",
    "    def get_mean_frequency(self):\n",
    "        \"\"\"\n",
    "        Compute mean frequency of graph nodes.\n",
    "\n",
    "        Args:\n",
    "            self (Graph): graph instance.\n",
    "\n",
    "        Returns:\n",
    "            mean (float): mean frequency of graph nodes \n",
    "        \"\"\"\n",
    "        ### Begin your code\n",
    "        return sum(self.nodes_frequency) / len(self.nodes_frequency)\n",
    "        ### End your code\n",
    "        pass\n",
    "\n",
    "    def centroid_frequencies(self):\n",
    "        \"\"\"\n",
    "        Centroid graph nodes frequencies on zero.\n",
    "\n",
    "        Args:\n",
    "            self (Graph): graph instance.\n",
    "        \"\"\"\n",
    "        ### Begin your code\n",
    "        avg = self.get_mean_frequency()\n",
    "        for i in range(len(self.nodes_frequency)):\n",
    "            self.nodes_frequency[i] = self.nodes_frequency[i] - avg\n",
    "        ### End your code\n",
    "        pass\n",
    "    def r(self):\n",
    "        pass\n",
    "\n",
    "    def is_edge(self, x, y):\n",
    "        return self.adjacency_matrix[x][y] == 1\n",
    "\n",
    "    def add_edge(self, x, y):\n",
    "        if not self.is_edge(x, y):\n",
    "            self.adjacency_matrix[x][y] = 1\n",
    "            self.adjacency_matrix[y][x] = 1\n",
    "\n",
    "    def remove_edge(self, x, y):\n",
    "        if self.is_edge(x, y):\n",
    "            self.adjacency_matrix[x][y] = 0\n",
    "            self.adjacency_matrix[y][x] = 0\n",
    "\n",
    "    def normalize_frequencies(self):\n",
    "        for i in range(len(self.nodes_frequency)):\n",
    "            while self.nodes_frequency[i] > math.pi:\n",
    "                self.nodes_frequency[i] -= math.pi\n"
   ]
  },
  {
   "cell_type": "code",
   "execution_count": 134,
   "metadata": {
    "id": "8il5DunLKZr1",
    "pycharm": {
     "name": "#%%\n"
    }
   },
   "outputs": [],
   "source": [
    "# fix\n",
    "# Download graph\n",
    "# go to this url and download graph.json https://drive.google.com/file/d/1vSjfd62GypdBtzOcMbxTYnlXyvkgIoX9/view?usp=sharing\n",
    "graph_json = json.load(open('graphs.json', 'r'))\n",
    "graph = Graph(graph_json[0], graph_json[1], graph_json[2])"
   ]
  },
  {
   "cell_type": "code",
   "execution_count": 135,
   "metadata": {
    "id": "MqV2FZJDKZr2",
    "outputId": "28927f09-a00e-4dfc-bb10-93f9654e0e2a",
    "pycharm": {
     "name": "#%%\n"
    }
   },
   "outputs": [
    {
     "name": "stdout",
     "output_type": "stream",
     "text": [
      "1.9224288087187333\n",
      "-8.881784197001253e-17\n"
     ]
    }
   ],
   "source": [
    "# test Graph functions\n",
    "# fix\n",
    "print(graph.get_mean_frequency())\n",
    "graph.centroid_frequencies()\n",
    "print(graph.get_mean_frequency())\n"
   ]
  },
  {
   "cell_type": "markdown",
   "metadata": {
    "id": "mvcSK6UxKZr2",
    "pycharm": {
     "name": "#%% md\n"
    }
   },
   "source": [
    "# Measuring the degree of synchronization (25 points)\n",
    "We use the Kuramoto order parameter to measure the degree syncronization in the network:\n",
    "$$\n",
    "  re^{i\\psi} = \\frac{1}{N} \\Sigma_{j=1}^N e^{i \\theta_j}\n",
    "$$\n",
    "In this equation, $r$ is the magnitude and $θ$ is frequency of each node. We know that $0 \\leq r \\leq 1$, and in order to have perfect syncronization, we must have $r=1$. In that case, we have $\\forall i, j: \\theta_i=\\theta_j$. We call $r=0$, incoherence, since it shows that there is no syncronization among oscillators.\n",
    "\n",
    "In the next cell, you must define the $r$ function. It gets the graph as input and calculates $r$ based on current frequncies.\n",
    "\n",
    "[More information about Kuramoto order paramete and how it works](https://mathinsight.org/applet/kuramoto_order_parameters)\n",
    "\n",
    "Hint: There is no need to use a complex number by transferring complex numbers into two-dimensional space."
   ]
  },
  {
   "cell_type": "code",
   "execution_count": 136,
   "metadata": {
    "id": "DCuCWLi2KZr3",
    "pycharm": {
     "name": "#%%\n"
    }
   },
   "outputs": [],
   "source": [
    "# calculating r\n",
    "def r(self):\n",
    "    \"\"\"\n",
    "    calculate r parameter.\n",
    "\n",
    "    Args:\n",
    "      self (Graph): graph instance.\n",
    "\n",
    "    Returns:\n",
    "      r (float): r parameter.\n",
    "    \"\"\"\n",
    "    ### Begin your code\n",
    "    sin = 0\n",
    "    cos = 0\n",
    "    for i in range(len(self.nodes_frequency)):\n",
    "        sin = sin + math.sin(self.nodes_frequency[i])\n",
    "        cos = cos + math.cos(self.nodes_frequency[i])\n",
    "    return 1 / len(graph.nodes_frequency) * math.sqrt(cos * cos + sin * sin)\n",
    "    ### End your code\n",
    "    pass"
   ]
  },
  {
   "cell_type": "code",
   "execution_count": 137,
   "metadata": {
    "id": "udMKUFOqKZr4",
    "pycharm": {
     "name": "#%%\n"
    }
   },
   "outputs": [],
   "source": [
    "# fix\n",
    "Graph.r = r"
   ]
  },
  {
   "cell_type": "markdown",
   "metadata": {
    "id": "mGlqIVo2KZr4"
   },
   "source": [
    "# The Kuramoto Model (30 points)\n",
    "We have $N$ oscillators which are coupled in a network. The Kuramoto model suggests an equation to calculate the phase of each oscillator based on their natural frequency and the effect of them on each other. In this equation, we get the derivative of oscillator's phase as a function of time.\n",
    "$$\n",
    "  \\frac{d \\theta_i(t)}{dt} = \\omega_i +\n",
    "    \\kappa \\Sigma_{j=1}^N A_{ij} H(\\theta_j(t) - \\theta_i(t))\n",
    "$$\n",
    "In this model, $\\omega_i$ is the intrinsic frequency of the i'th oscillator, and $A$ is the adjacency matrix. $H(\\theta)$ is a coupling function. It shows the coupling strength of 2 oscillators with $\\theta$ phase difference. So it needs to be a $2\\pi$-periodic function. We use $H(\\theta)=sin(\\theta)$ in this model. $\\kappa$ is the coupling strength.\n",
    "\n",
    "Since we have the derivatives, we can use RK45 to find the solution. First, define the $theta\\_calculator$ function which gets graph, current frequencies and $\\kappa$ as input and calculates $\\frac{d\\theta}{dt}$. Then, use this function in RK45 method to solve the problem.\n",
    "\n",
    "[More about Kuramoto model](https://en.wikipedia.org/wiki/Kuramoto_model)"
   ]
  },
  {
   "cell_type": "code",
   "execution_count": 138,
   "metadata": {
    "id": "61PyphyGKZr5"
   },
   "outputs": [],
   "source": [
    "# calculating next step of graph\n",
    "# H(a) = sin(a)\n",
    "def theta_calculator(graph, k):\n",
    "    \"\"\"\n",
    "    function calculate dθ/dt for using in RK45\n",
    "    \n",
    "    Args:\n",
    "      graph (Graph): graph instance.\n",
    "      k (float): coupling strength.\n",
    "\n",
    "    Returns:\n",
    "      nodes_frequencies (List[float]): dθ/dt\n",
    "    \"\"\"\n",
    "    ### Begin your code\n",
    "    frequencies = []\n",
    "    for i in range(len(graph.nodes_frequency)):\n",
    "        freq = graph.naturalFreq[i]\n",
    "        for j in range(len(graph.nodes_frequency)):\n",
    "            freq = freq + k * graph.adjacency_matrix[i][j] * math.sin(graph.nodes_frequency[j] - graph.nodes_frequency[i])\n",
    "        frequencies.append(freq)\n",
    "    return frequencies\n",
    "    ### End your code\n",
    "    pass\n",
    "\n",
    "    \n",
    "\n",
    "def next_step(graph, k, t0=0.1, t_bound=10, rtol=0.001, atol=1e-06):\n",
    "    \"\"\"\n",
    "    function calculates graph nodes frequencies using the above function and RK45\n",
    "\n",
    "    Args:\n",
    "      graph (Graph): graph instance.\n",
    "      k (float): coupling strength.\n",
    "\n",
    "    Returns: \n",
    "      graph (Graph): graph instance in epsilon = 1e-06s ahead \n",
    "    \"\"\"\n",
    "    ### Begin your code\n",
    "    def func(t, y):\n",
    "        return theta_calculator(graph, k)\n",
    "    solution = RK45(func, t0, graph.nodes_frequency, t0 + rtol * 2, rtol, atol)\n",
    "    graph_copy = copy.deepcopy(graph)\n",
    "    solution.step()\n",
    "    graph_copy.nodes_frequency = solution.y\n",
    "    return graph_copy\n",
    "    ### End your code\n",
    "    pass"
   ]
  },
  {
   "cell_type": "code",
   "execution_count": 139,
   "metadata": {
    "id": "sM_ufbb4KZr5"
   },
   "outputs": [],
   "source": [
    "# calculate n step and plot graph r\n",
    "def plot_rn(graph_main, k, n):\n",
    "    \"\"\"\n",
    "    calculate next n step and plot r-n graph using pyplot\n",
    "\n",
    "    Args:\n",
    "      graph (Graph): graph instance.\n",
    "      k (float): coupling strength.\n",
    "      n (int): number of steps\n",
    "    \"\"\"\n",
    "    graph = copy.deepcopy(graph_main)\n",
    "    # do not use graph_main\n",
    "    ### Begin your code\n",
    "    r_values = []\n",
    "    t_values = []\n",
    "    r_values.append(graph.r())\n",
    "    t_values.append(0)\n",
    "    for i in range(n - 1):\n",
    "        graph = next_step(graph, k)\n",
    "        r_values.append(graph.r())\n",
    "        t_values.append(i + 1)\n",
    "    plt.plot(t_values, r_values)\n",
    "    plt.show()\n",
    "    ### End your code\n"
   ]
  },
  {
   "cell_type": "markdown",
   "metadata": {
    "id": "XnQzbdVOKZr5"
   },
   "source": [
    "# Accept-Reject and Rewiring (30 points)\n",
    "Imagine there are a fixed set of frequencies and our goal is to define a structure of network which optimizes the synchronization represented by the measure $r$ which has been already explained. In fact, checking all possible states requires $O(N!)$ while $N$ is a number of nodes. Obviously, it is not efficient enough. Thus, we try to reach an approximate solution. The method used here is Accept-Reject. In each stage, We rewire the current network in order to obtain better synchronization(which is measured by $r$). If the rewiring result is better than the current network, it is accepted, else, it is rejected (in [refrence 1](https://www.researchgate.net/publication/260439709_Optimal_Synchronization_of_Complex_Networks/citations) you can find a theoretical critera to accept or reject rewired graph  with linear formulation of the Kuramoto model based on  the eigenvalues of the Laplacian matrix).\n",
    "\n",
    "In the below cells, you should implement the rewire method which deletes 2 edges and adds 2 new edges to the network. Plus Accept-Reject checks the $r$ measure between the new graph that has been rewired $m$ times and the current graph and accepts the new network if it is more synchronized. And also $n$ is a maximum number of iterations to find the optimal solution."
   ]
  },
  {
   "cell_type": "code",
   "execution_count": 140,
   "metadata": {
    "id": "AZk8P6G8KZr5"
   },
   "outputs": [],
   "source": [
    "\n",
    "# rewire graph\n",
    "def rewire(graph_main):\n",
    "    \"\"\"\n",
    "    remove 2 edge and add 2 edge randomly.\n",
    "    feel free to define new functions in case you want.\n",
    "\n",
    "    Args:\n",
    "      graph (Graph): graph instance.\n",
    "\n",
    "    Returns: \n",
    "      graph (Graph): rewired graph instance.\n",
    "    \"\"\"\n",
    "    graph = copy.deepcopy(graph_main)\n",
    "    # do not use graph_main\n",
    "    ### Begin your code\n",
    "    deleted = 2\n",
    "    added = 2\n",
    "    size = len(graph.nodes_frequency)\n",
    "    while deleted > 0:\n",
    "        i = math.floor(np.random.random() * size)\n",
    "        j = math.floor(np.random.random() * size)\n",
    "        if graph.adjacency_matrix[i][j] == 1:\n",
    "            deleted = deleted - 1\n",
    "            graph.adjacency_matrix[i][j] = 0\n",
    "    while added > 0:\n",
    "        i = math.floor(np.random.random() * size)\n",
    "        j = math.floor(np.random.random() * size)\n",
    "        if graph.adjacency_matrix[i][j] == 0:\n",
    "            added = added - 1\n",
    "            graph.adjacency_matrix[i][j] = 1\n",
    "    return graph\n",
    "    ### End your code"
   ]
  },
  {
   "cell_type": "code",
   "execution_count": 152,
   "metadata": {
    "id": "x5ZEWmkiKZr6"
   },
   "outputs": [],
   "source": [
    "# accept-reject algorithm (based on r in next m step)\n",
    "def accept_reject(graph, n, m, k):\n",
    "    \"\"\"\n",
    "    rewire graph, then compare rewired graph r in next m step with old graph r; if rewired graph r was higher accept it as new graph.\n",
    "    repeat this process n times.\n",
    "    \n",
    "    Args:\n",
    "      graph (Graph): graph instance.\n",
    "      n (int): number of steps.\n",
    "      m (int): number of steps for checking r.\n",
    "      k (float): coupling strength.\n",
    "    \"\"\"\n",
    "    ### Begin your code\n",
    "    old_graph = copy.deepcopy(graph)\n",
    "    new_graph = copy.deepcopy(graph)\n",
    "    for i in range(n):\n",
    "        new_graph = rewire(old_graph)\n",
    "        for j in range(m):\n",
    "            new_graph = next_step(new_graph, k)\n",
    "        if new_graph.r() > old_graph.r():\n",
    "            old_graph = new_graph\n",
    "    return old_graph\n",
    "    ### End your code"
   ]
  },
  {
   "cell_type": "code",
   "execution_count": 153,
   "metadata": {
    "id": "NHpe4AgxlQCF",
    "pycharm": {
     "name": "#%%\n"
    }
   },
   "outputs": [
    {
     "data": {
      "image/png": "[encoded data removed]",
      "text/plain": [
       "<Figure size 432x288 with 1 Axes>"
      ]
     },
     "metadata": {
      "needs_background": "light"
     },
     "output_type": "display_data"
    },
    {
     "data": {
      "image/png": "[encoded data removed]",
      "text/plain": [
       "<Figure size 432x288 with 1 Axes>"
      ]
     },
     "metadata": {
      "needs_background": "light"
     },
     "output_type": "display_data"
    }
   ],
   "source": [
    "# fix\n",
    "# test rewiring\n",
    "graph_rewired = accept_reject(graph, 1000, 10, 0.5)\n",
    "plot_rn(graph_rewired,0.5,20)\n",
    "plot_rn(graph,0.5,20)"
   ]
  },
  {
   "cell_type": "markdown",
   "metadata": {
    "id": "vjhb7Z_htZOp"
   },
   "source": [
    "# Refrences\n",
    "\n",
    "\n",
    "1.   [Skardal, P. S., Taylor, D. & Sun, J. Optimal synchronization of complex networks. Phys. Rev.Lett. 113, 144101 (2014).](https://www.researchgate.net/publication/260439709_Optimal_Synchronization_of_Complex_Networks/citations)\n",
    "2.   [Yamir Moreno & Amalio F Pacheco, Synchronization of Kuramoto oscillators in scale-free networks, EPL (Europhysics\n",
    "Letters) 68, 603 (2004).](https://www.researchgate.net/publication/1941138_Synchronization_of_Kuramoto_Oscillators_in_Scale-Free_Networks/citations)\n",
    "\n",
    "2. [da F. Costa, Luciano. (2018). What is a Complex Network? (CDT-2). 10.13140/RG.2.2.10450.04804/2.](https://www.researchgate.net/publication/324312765_What_is_a_Complex_Network_CDT-2)"
   ]
  }
 ],
 "metadata": {
  "colab": {
   "collapsed_sections": [],
   "name": "Project_Main.ipynb",
   "provenance": []
  },
  "kernelspec": {
   "display_name": "Python 3 (ipykernel)",
   "language": "python",
   "name": "python3"
  },
  "language_info": {
   "codemirror_mode": {
    "name": "ipython",
    "version": 3
   },
   "file_extension": ".py",
   "mimetype": "text/x-python",
   "name": "python",
   "nbconvert_exporter": "python",
   "pygments_lexer": "ipython3",
   "version": "3.10.2"
  }
 },
 "nbformat": 4,
 "nbformat_minor": 1
}
